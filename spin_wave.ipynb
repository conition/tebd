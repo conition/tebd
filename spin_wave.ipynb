{
 "cells": [
  {
   "cell_type": "code",
   "execution_count": 5,
   "metadata": {},
   "outputs": [],
   "source": [
    "import numpy as np\n",
    "import mps\n",
    "import tebd\n",
    "import scipy\n",
    "from tensornetwork import ncon\n",
    "from IPython.display import clear_output\n",
    "import matplotlib.pyplot as plt\n",
    "import matplotlib.animation as animation"
   ]
  },
  {
   "cell_type": "code",
   "execution_count": 8,
   "metadata": {},
   "outputs": [],
   "source": [
    "# Initialise 'empty' MPS\n",
    "N = 30\n",
    "chi = 17\n",
    "d = 3\n",
    "mps_tensors = [np.zeros((chi, d, chi)) for _ in range(N)]\n",
    "weights = [np.ones((chi)) / np.sqrt(chi) for _ in range(N)]\n",
    "\n",
    "# Set MPS to product state with one spin max in the center and all other spins min\n",
    "for t in mps_tensors:\n",
    "    t[:, d-1, :] = 1.0\n",
    "mps_tensors[N // 2][:, d-1, :] = 0.0\n",
    "mps_tensors[N // 2][:, 0, :] = 1.0\n",
    "\n",
    "# Canonicalize MPS\n",
    "sigmas = mps.left_environment_tensors(mps_tensors, weights)\n",
    "mus = mps.right_environment_tensors(mps_tensors, weights)\n",
    "mps_tensors, weights = mps.canonical_form(mps_tensors, weights, sigmas, mus)"
   ]
  },
  {
   "cell_type": "code",
   "execution_count": 11,
   "metadata": {},
   "outputs": [
    {
     "name": "stdout",
     "output_type": "stream",
     "text": [
      "999\n"
     ]
    }
   ],
   "source": [
    "delta = 0.01\n",
    "T = 50\n",
    "num_tsteps = int(T / delta)\n",
    "num_midsteps = 5  # Number of timesteps between canonicalization and measurements\n",
    "num_evolutions = num_tsteps // num_midsteps\n",
    "\n",
    "# Compute time evolution gate\n",
    "J = 1  # Nearest-neighbour coupling\n",
    "B = 1  # External field\n",
    "sx, sy, sz = tebd.generate_spin_operators(s=(d - 1) / 2)\n",
    "nn_hamiltonian = -B * (np.kron(sz, np.eye(d)) + np.kron(np.eye(d), sz)) - J * (\n",
    "    np.kron(sx, sx) + np.kron(sy, sy) + np.kron(sz, sz)\n",
    ")\n",
    "gate = scipy.linalg.expm(-1j * delta * nn_hamiltonian).reshape(d, d, d, d)\n",
    "\n",
    "spin_expectations = np.zeros((num_evolutions, N))\n",
    "\n",
    "for i in range(num_evolutions):\n",
    "    print(i)\n",
    "    # Evolve state in time\n",
    "    mps_tensors, weights = tebd.do_tebd_timesteps(\n",
    "        num_midsteps, gate, mps_tensors, weights, max_chi_trunc=17\n",
    "    )\n",
    "\n",
    "    # Canonicalize MPS and find spin expectation values\n",
    "    sigmas = mps.left_environment_tensors(mps_tensors, weights)\n",
    "    mus = mps.right_environment_tensors(mps_tensors, weights)\n",
    "    mps_tensors, weights = mps.canonical_form(mps_tensors, weights, sigmas, mus)\n",
    "    spin_expectations[i] = mps.one_body_gate_expectation_values(\n",
    "        sz, mps_tensors, weights\n",
    "    )\n",
    "    clear_output(wait=True)\n"
   ]
  },
  {
   "cell_type": "code",
   "execution_count": 13,
   "metadata": {},
   "outputs": [
    {
     "data": {
      "image/png": "[encoded data removed]",
      "text/plain": [
       "<Figure size 1000x500 with 1 Axes>"
      ]
     },
     "metadata": {},
     "output_type": "display_data"
    }
   ],
   "source": [
    "# Generate animation showing spin wave propagation\n",
    "fig, ax0 = plt.subplots(figsize=(10, 5))\n",
    "ax0.grid()\n",
    "ax0.set_xlabel('$j$')\n",
    "ax0.set_ylabel(r'$\\left\\langle \\hat{S}_z^{[j]}\\right\\rangle$')\n",
    "s = (d - 1) / 2\n",
    "ax0.set_yticks(np.linspace(-s, s, 5))\n",
    "\n",
    "artists = []\n",
    "for i in range(num_tsteps//5):\n",
    "    artist = ax0.plot(np.arange(N), spin_expectations[i], '.k')\n",
    "    artists.append(artist)\n",
    "\n",
    "ani = animation.ArtistAnimation(fig=fig, artists=artists, interval=25)\n",
    "# ani.save('./videos/spin_one_wave.mp4', writer='ffmpeg')"
   ]
  }
 ],
 "metadata": {
  "kernelspec": {
   "display_name": "Computing Project",
   "language": "python",
   "name": "python3"
  },
  "language_info": {
   "codemirror_mode": {
    "name": "ipython",
    "version": 3
   },
   "file_extension": ".py",
   "mimetype": "text/x-python",
   "name": "python",
   "nbconvert_exporter": "python",
   "pygments_lexer": "ipython3",
   "version": "3.12.2"
  }
 },
 "nbformat": 4,
 "nbformat_minor": 2
}
